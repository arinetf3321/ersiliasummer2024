{
 "cells": [
  {
   "cell_type": "code",
   "execution_count": 1,
   "id": "c04ff328-32d5-4f5b-99c0-2e15d316b43c",
   "metadata": {},
   "outputs": [],
   "source": [
    "from rdkit import Chem\n",
    "import pandas as pd\n",
    "import numpy as np\n",
    "import matplotlib.pyplot as plt\n",
    "\n",
    "# Read the CSV file\n",
    "df = pd.read_csv('input3.csv')\n",
    "\n",
    "# Generate RDKit molecules\n",
    "molecules = [Chem.MolFromSmiles(smiles) for smiles in df['standardized_smiles'] if Chem.MolFromSmiles(smiles) is not None]\n",
    "\n",
    "# Calculate molecular weights\n",
    "mol_weights = [Chem.Descriptors.MolWt(mol) for mol in molecules]\n",
    "\n",
    "# Create a scatter plot\n",
    "plt.scatter(range(len(mol_weights)), mol_weights)\n",
    "plt.xlabel('Molecule Index')\n",
    "plt.ylabel('Molecular Weight')\n",
    "plt.title('Reproducibility Scatter Plot')\n",
    "plt.show()"
   ]
  },
  {
   "cell_type": "code",
   "execution_count": null,
   "id": "3b533baa-10be-41ba-8ddd-dc2abeca58d5",
   "metadata": {},
   "outputs": [],
   "source": []
  }
 ],
 "metadata": {
  "kernelspec": {
   "display_name": "my-rdkit-env",
   "language": "python",
   "name": "my-rdkit-env"
  },
  "language_info": {
   "codemirror_mode": {
    "name": "ipython",
    "version": 3
   },
   "file_extension": ".py",
   "mimetype": "text/x-python",
   "name": "python",
   "nbconvert_exporter": "python",
   "pygments_lexer": "ipython3",
   "version": "3.10.14"
  }
 },
 "nbformat": 4,
 "nbformat_minor": 5
}
